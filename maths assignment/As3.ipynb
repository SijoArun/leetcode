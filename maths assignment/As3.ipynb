{
 "cells": [
  {
   "cell_type": "code",
   "execution_count": null,
   "id": "41ff3091-b70f-4979-88f5-3fce639a5c97",
   "metadata": {},
   "outputs": [],
   "source": [
    "https://www.chegg.com/homework-help/questions-and-answers/given-function-f-x-x2-cos-x-sin-x-x-derive-variable-step-size-ensure-faster-convergence-gr-q118338440"
   ]
  }
 ],
 "metadata": {
  "kernelspec": {
   "display_name": "Python 3 (ipykernel)",
   "language": "python",
   "name": "python3"
  },
  "language_info": {
   "codemirror_mode": {
    "name": "ipython",
    "version": 3
   },
   "file_extension": ".py",
   "mimetype": "text/x-python",
   "name": "python",
   "nbconvert_exporter": "python",
   "pygments_lexer": "ipython3",
   "version": "3.10.12"
  }
 },
 "nbformat": 4,
 "nbformat_minor": 5
}
